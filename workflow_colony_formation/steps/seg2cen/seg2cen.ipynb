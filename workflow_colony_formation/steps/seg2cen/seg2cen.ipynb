{
 "cells": [
  {
   "cell_type": "markdown",
   "metadata": {},
   "source": [
    "# seg2cen - convert the level-set segmentations for each frame into a set of cell centroids \n",
    "\n",
    "Our metrics and models are based on cells that have a location and size, so we'll be converting the segmentations that CellPose has produced into a set of cell centroids and sizes. \n",
    "\n",
    "Additionally we'll do some post processing to remove segmentations that are duplicated across the channels that result from, e.g., light leakage across the filters. \n",
    "\n",
    "First let's set up our environment and locate the segmentation files that `img2seg` has written:"
   ]
  },
  {
   "cell_type": "code",
   "execution_count": 1,
   "metadata": {},
   "outputs": [],
   "source": [
    "from pathlib import Path\n",
    "import itertools\n",
    "import multiprocessing as mp\n",
    "\n",
    "import numpy as np\n",
    "import pandas as pd\n",
    "import matplotlib.pyplot as plt\n",
    "import matplotlib.patches\n",
    "import seaborn as sns\n",
    "import skimage.io\n",
    "import skimage.morphology\n",
    "import cv2\n",
    "\n",
    "from workflow_colony_formation import utils"
   ]
  },
  {
   "cell_type": "code",
   "execution_count": 2,
   "metadata": {},
   "outputs": [
    {
     "data": {
      "text/html": [
       "<div>\n",
       "<style scoped>\n",
       "    .dataframe tbody tr th:only-of-type {\n",
       "        vertical-align: middle;\n",
       "    }\n",
       "\n",
       "    .dataframe tbody tr th {\n",
       "        vertical-align: top;\n",
       "    }\n",
       "\n",
       "    .dataframe thead th {\n",
       "        text-align: right;\n",
       "    }\n",
       "</style>\n",
       "<table border=\"1\" class=\"dataframe\">\n",
       "  <thead>\n",
       "    <tr style=\"text-align: right;\">\n",
       "      <th></th>\n",
       "      <th>filepath</th>\n",
       "      <th>original_czi</th>\n",
       "      <th>channel</th>\n",
       "      <th>fluorophore</th>\n",
       "      <th>time</th>\n",
       "      <th>region</th>\n",
       "    </tr>\n",
       "  </thead>\n",
       "  <tbody>\n",
       "    <tr>\n",
       "      <th>0</th>\n",
       "      <td>local_staging/img2seg/seg/20170711_I01_001_M0_...</td>\n",
       "      <td>20170711_I01_001.czi</td>\n",
       "      <td>0</td>\n",
       "      <td>EGFP</td>\n",
       "      <td>0</td>\n",
       "      <td>0</td>\n",
       "    </tr>\n",
       "    <tr>\n",
       "      <th>1</th>\n",
       "      <td>local_staging/img2seg/seg/20170711_I01_001_M0_...</td>\n",
       "      <td>20170711_I01_001.czi</td>\n",
       "      <td>0</td>\n",
       "      <td>EGFP</td>\n",
       "      <td>1</td>\n",
       "      <td>0</td>\n",
       "    </tr>\n",
       "    <tr>\n",
       "      <th>2</th>\n",
       "      <td>local_staging/img2seg/seg/20170711_I01_001_M0_...</td>\n",
       "      <td>20170711_I01_001.czi</td>\n",
       "      <td>0</td>\n",
       "      <td>EGFP</td>\n",
       "      <td>2</td>\n",
       "      <td>0</td>\n",
       "    </tr>\n",
       "  </tbody>\n",
       "</table>\n",
       "</div>"
      ],
      "text/plain": [
       "                                            filepath          original_czi  \\\n",
       "0  local_staging/img2seg/seg/20170711_I01_001_M0_...  20170711_I01_001.czi   \n",
       "1  local_staging/img2seg/seg/20170711_I01_001_M0_...  20170711_I01_001.czi   \n",
       "2  local_staging/img2seg/seg/20170711_I01_001_M0_...  20170711_I01_001.czi   \n",
       "\n",
       "   channel fluorophore  time  region  \n",
       "0        0        EGFP     0       0  \n",
       "1        0        EGFP     1       0  \n",
       "2        0        EGFP     2       0  "
      ]
     },
     "execution_count": 2,
     "metadata": {},
     "output_type": "execute_result"
    }
   ],
   "source": [
    "config = utils.load_step_config('seg2cen', ['img2seg', ])\n",
    "    \n",
    "# Find (and create if necessary) input and output dirs\n",
    "root_dir = Path('../../..').resolve()\n",
    "relative_local_staging = config.step_local_staging_dir\n",
    "absolute_local_staging = root_dir / relative_local_staging\n",
    "absolute_local_staging.mkdir(parents=True, exist_ok=True)\n",
    "\n",
    "# Load the prior manifest\n",
    "parent_manifest_fn = (absolute_local_staging / \"../img2seg/manifest.csv\").resolve()\n",
    "parent_manifest = pd.read_csv(parent_manifest_fn)\n",
    "parent_manifest.head(3)"
   ]
  },
  {
   "cell_type": "markdown",
   "metadata": {},
   "source": [
    "Now we'll load and plot one of the segmentations. Since it is a big overview, we'll also zoom in on a small section of it to look at the segmentations there in a bit more detail."
   ]
  },
  {
   "cell_type": "code",
   "execution_count": 3,
   "metadata": {},
   "outputs": [
    {
     "data": {
      "image/png": "[encoded data removed]",
      "text/plain": [
       "<Figure size 720x288 with 2 Axes>"
      ]
     },
     "metadata": {
      "needs_background": "light"
     },
     "output_type": "display_data"
    }
   ],
   "source": [
    "def load_seg(fn):\n",
    "    return skimage.io.imread(str(root_dir / fn))\n",
    "\n",
    "def plot_seg(seg, ax):\n",
    "    ax.imshow(seg)\n",
    "    ax.axis('off')\n",
    "\n",
    "# Load the seg\n",
    "seg_entry = parent_manifest.iloc[100]\n",
    "seg = load_seg(seg_entry.filepath)\n",
    "\n",
    "# Zoom in on a small section of it\n",
    "zoom = 400,900,200,200  # x, y, w, h\n",
    "rect = matplotlib.patches.Rectangle(\n",
    "    zoom[:2], zoom[2], zoom[3], lw=3, ec='r', fc='none')\n",
    "zoomed = seg[zoom[1]:zoom[1]+zoom[3], zoom[0]:zoom[0]+zoom[2]]\n",
    "\n",
    "fig, axs = plt.subplots(1, 2, figsize = (10,4))\n",
    "plot_seg(seg, axs[0])\n",
    "axs[0].add_patch(rect)\n",
    "plot_seg(zoomed, axs[1])\n",
    "plt.tight_layout()"
   ]
  },
  {
   "cell_type": "markdown",
   "metadata": {},
   "source": [
    "Huh, are those ones in the zoomed in region being detected as all one nucleii? Let's process their centroids and plot those as an overlay."
   ]
  },
  {
   "cell_type": "code",
   "execution_count": 4,
   "metadata": {},
   "outputs": [],
   "source": [
    "def mask_info(mask):\n",
    "    \"\"\"Metrics about a mask\"\"\"\n",
    "    area = np.sum(mask)\n",
    "    c_y, c_x = np.mean(np.nonzero(mask), 1)\n",
    "    return dict(area=area, centroid_x=c_x, centroid_y=c_y)\n",
    "\n",
    "def seg_for_cell(seg, cell_id, channel):\n",
    "    \"\"\"Segment a cell, creating a mask for it\"\"\"\n",
    "    cell = mask_info(seg==cell_id)\n",
    "    cell['cell_id'] = cell_id\n",
    "    cell['channel'] = channel\n",
    "    return cell\n",
    "    \n",
    "def seg_to_centroids(seg, channel=0):\n",
    "    \"\"\"Get info about all segments in an image\"\"\"\n",
    "    cell_ids = np.sort(np.unique(seg))[1:]\n",
    "    cells = [seg_for_cell(seg, cell_id, channel) for cell_id in cell_ids]\n",
    "    return cells"
   ]
  },
  {
   "cell_type": "code",
   "execution_count": 5,
   "metadata": {},
   "outputs": [
    {
     "data": {
      "image/png": "[encoded data removed]",
      "text/plain": [
       "<Figure size 432x288 with 1 Axes>"
      ]
     },
     "metadata": {
      "needs_background": "light"
     },
     "output_type": "display_data"
    }
   ],
   "source": [
    "zoomed_cells = pd.DataFrame(seg_to_centroids(zoomed))\n",
    "\n",
    "def plot_centroids(centroids, ax):\n",
    "    \"\"\"Plot the centroids by channel\"\"\"\n",
    "    sns.scatterplot('centroid_x', 'centroid_y', 'channel', data=centroids, legend=False)\n",
    "    ax.set(aspect = 1, \n",
    "           xlim = (0, zoom[2]),\n",
    "           ylim = (zoom[3], 0),\n",
    "          )\n",
    "    \n",
    "# Show zoomed in segment with cell centroids\n",
    "fig, ax = plt.subplots()\n",
    "plot_seg(zoomed, ax)\n",
    "plot_centroids(zoomed_cells, ax)\n",
    "plt.tight_layout()"
   ]
  },
  {
   "cell_type": "markdown",
   "metadata": {},
   "source": [
    "Nope, those are all separate values in the levelset of cells. \n",
    "\n",
    "We have an extractor for all the cells in a frame. But we have two channels. Let's look at the other channel for this mosaic and timepoint."
   ]
  },
  {
   "cell_type": "code",
   "execution_count": 6,
   "metadata": {},
   "outputs": [
    {
     "data": {
      "image/png": "[encoded data removed]",
      "text/plain": [
       "<Figure size 720x288 with 2 Axes>"
      ]
     },
     "metadata": {
      "needs_background": "light"
     },
     "output_type": "display_data"
    }
   ],
   "source": [
    "# Find the entry for the other channel\n",
    "other_channel_seg_entry = parent_manifest[\n",
    "    (parent_manifest.channel!=seg_entry.channel) & \n",
    "    (parent_manifest.time==seg_entry.time) & \n",
    "    (parent_manifest.region==seg_entry.region)].iloc[0]\n",
    "\n",
    "# Load and display\n",
    "other_seg = load_seg(root_dir / other_channel_seg_entry.filepath)\n",
    "other_zoomed = other_seg[zoom[1]:zoom[1]+zoom[3], zoom[0]:zoom[0]+zoom[2]]\n",
    "\n",
    "fig, axs = plt.subplots(1, 2, figsize = (10,4))\n",
    "plot_seg(zoomed, axs[0])\n",
    "plot_seg(other_zoomed, axs[1])\n",
    "plt.tight_layout()"
   ]
  },
  {
   "cell_type": "markdown",
   "metadata": {},
   "source": [
    "There is quite a bit of overlap in the detected nuclei between those two channels. I don't know whether this is because of light leakage across the filter or some other property of the fluorescence, but we can correct for it by deduping the centroids. Let's take a look at the centroids for each channel, overlaid on each other. "
   ]
  },
  {
   "cell_type": "code",
   "execution_count": 7,
   "metadata": {},
   "outputs": [
    {
     "data": {
      "image/png": "[encoded data removed]",
      "text/plain": [
       "<Figure size 432x288 with 1 Axes>"
      ]
     },
     "metadata": {
      "needs_background": "light"
     },
     "output_type": "display_data"
    }
   ],
   "source": [
    "zoomed_cells = pd.DataFrame(seg_to_centroids(zoomed, 0) + seg_to_centroids(other_zoomed, 1))\n",
    "\n",
    "# Show zoomed in segment with cell centroids\n",
    "fig, ax = plt.subplots()\n",
    "plot_centroids(zoomed_cells, ax)\n",
    "plt.tight_layout()"
   ]
  },
  {
   "cell_type": "markdown",
   "metadata": {},
   "source": [
    "We will apply an erosion to each mask and omit overlapping cells to de-dupe from one channel to the next."
   ]
  },
  {
   "cell_type": "code",
   "execution_count": 8,
   "metadata": {},
   "outputs": [],
   "source": [
    "def erosion(seg, area_fraction=0.25):\n",
    "    \"\"\"Perform binary erosion on each cell until area reachs fraction of original\"\"\"\n",
    "    new = np.zeros_like(seg)\n",
    "    cell_ids = np.sort(np.unique(seg))[1:]\n",
    "    cells = []\n",
    "    for cell_id in cell_ids:\n",
    "        mask = (seg==cell_id).astype(np.uint8)\n",
    "        area = np.sum(mask)\n",
    "        kernel = cv2.getStructuringElement(1, (3,3))\n",
    "        while np.sum(mask) > area_fraction * area:\n",
    "            #mask = skimage.morphology.binary_erosion(mask)\n",
    "            mask = cv2.erode(mask, kernel)\n",
    "        new += mask*cell_id\n",
    "    return new\n",
    "\n",
    "def seg_to_centroids(seg, other=None, channel=0):\n",
    "    \"\"\"Retake the centroids for each segment in an image, but with the option to exclude \n",
    "    those that overlap with an eroded mask from a neighboring channel\n",
    "    \"\"\"\n",
    "    cell_ids = np.sort(np.unique(seg))[1:]\n",
    "    cells = []\n",
    "    if other is None:\n",
    "        other = np.zeros_like(seg)\n",
    "    seg_erode = erosion(seg)\n",
    "    other_erode = erosion(other)\n",
    "    for cell_id in cell_ids:\n",
    "        erode_mask = seg_erode==cell_id\n",
    "        if np.sum(erode_mask*other_erode)>0:\n",
    "            continue\n",
    "        cells.append(seg_for_cell(seg, cell_id, channel))\n",
    "    return cells\n",
    "\n",
    "def segs_to_centroids(seg, other_seg):\n",
    "    cells = seg_to_centroids(seg)\n",
    "    cells += seg_to_centroids(other_seg, seg, 1)\n",
    "    return cells"
   ]
  },
  {
   "cell_type": "markdown",
   "metadata": {},
   "source": [
    "Now we can try our deduped centroid detection on our zoomed in segment. \n",
    "\n",
    "Side note: applying this erosion across the images is the most computationally expensive step here. "
   ]
  },
  {
   "cell_type": "code",
   "execution_count": 9,
   "metadata": {},
   "outputs": [
    {
     "data": {
      "image/png": "[encoded data removed]",
      "text/plain": [
       "<Figure size 432x288 with 1 Axes>"
      ]
     },
     "metadata": {
      "needs_background": "light"
     },
     "output_type": "display_data"
    }
   ],
   "source": [
    "zoomed_cells = pd.DataFrame(segs_to_centroids(zoomed, other_zoomed))\n",
    "\n",
    "# Show zoomed in segment with cell centroids\n",
    "fig, ax = plt.subplots()\n",
    "plot_centroids(zoomed_cells, ax)"
   ]
  },
  {
   "cell_type": "markdown",
   "metadata": {},
   "source": [
    "That is what we want! Let's go through and do it to each. First we need a list of matching rows (both channels for a single time point in a given region), so we'll make that and then find the centroids for each set."
   ]
  },
  {
   "cell_type": "code",
   "execution_count": 10,
   "metadata": {},
   "outputs": [],
   "source": [
    "# Create params of matching row indices to process channel pairs\n",
    "params = []\n",
    "for ind, row in parent_manifest.iterrows():\n",
    "    match = parent_manifest[\n",
    "        (parent_manifest.time==row.time) & \n",
    "        (parent_manifest.region==row.region) & \n",
    "        (parent_manifest.channel!=row.channel) \n",
    "    ]\n",
    "    assert len(match)<=1\n",
    "    if len(match)==0:\n",
    "        continue\n",
    "    other_ind = match.iloc[0].name\n",
    "    if (other_ind, ind) not in params:\n",
    "        params.append((ind, other_ind))\n",
    "if config.interactive:\n",
    "    params = params[:2]\n",
    "        \n",
    "def centroids_by_rows(row_inds):\n",
    "    if parent_manifest.iloc[row_inds[0]].channel==1:\n",
    "        row_inds = row_inds[::-1]\n",
    "    rows = [parent_manifest.iloc[i] for i in row_inds]\n",
    "    centroids = segs_to_centroids(load_seg(rows[0].filepath), \n",
    "                                  load_seg(rows[1].filepath))\n",
    "    for centroid in centroids:\n",
    "        row = rows[centroid['channel']]\n",
    "        centroid.update(dict(original_czi=row.original_czi,\n",
    "                             fluorophore=row.fluorophore, \n",
    "                             time=row.time, \n",
    "                             region=row.region)) \n",
    "    return centroids"
   ]
  },
  {
   "cell_type": "code",
   "execution_count": 11,
   "metadata": {},
   "outputs": [
    {
     "data": {
      "text/html": [
       "<div>\n",
       "<style scoped>\n",
       "    .dataframe tbody tr th:only-of-type {\n",
       "        vertical-align: middle;\n",
       "    }\n",
       "\n",
       "    .dataframe tbody tr th {\n",
       "        vertical-align: top;\n",
       "    }\n",
       "\n",
       "    .dataframe thead th {\n",
       "        text-align: right;\n",
       "    }\n",
       "</style>\n",
       "<table border=\"1\" class=\"dataframe\">\n",
       "  <thead>\n",
       "    <tr style=\"text-align: right;\">\n",
       "      <th></th>\n",
       "      <th>area</th>\n",
       "      <th>centroid_x</th>\n",
       "      <th>centroid_y</th>\n",
       "      <th>cell_id</th>\n",
       "      <th>channel</th>\n",
       "      <th>original_czi</th>\n",
       "      <th>fluorophore</th>\n",
       "      <th>time</th>\n",
       "      <th>region</th>\n",
       "    </tr>\n",
       "  </thead>\n",
       "  <tbody>\n",
       "    <tr>\n",
       "      <th>0</th>\n",
       "      <td>89</td>\n",
       "      <td>1642.584270</td>\n",
       "      <td>2.685393</td>\n",
       "      <td>1</td>\n",
       "      <td>0</td>\n",
       "      <td>20170711_I01_001.czi</td>\n",
       "      <td>EGFP</td>\n",
       "      <td>0</td>\n",
       "      <td>0</td>\n",
       "    </tr>\n",
       "    <tr>\n",
       "      <th>1</th>\n",
       "      <td>402</td>\n",
       "      <td>1762.671642</td>\n",
       "      <td>13.833333</td>\n",
       "      <td>2</td>\n",
       "      <td>0</td>\n",
       "      <td>20170711_I01_001.czi</td>\n",
       "      <td>EGFP</td>\n",
       "      <td>0</td>\n",
       "      <td>0</td>\n",
       "    </tr>\n",
       "    <tr>\n",
       "      <th>2</th>\n",
       "      <td>399</td>\n",
       "      <td>1784.869674</td>\n",
       "      <td>40.010025</td>\n",
       "      <td>3</td>\n",
       "      <td>0</td>\n",
       "      <td>20170711_I01_001.czi</td>\n",
       "      <td>EGFP</td>\n",
       "      <td>0</td>\n",
       "      <td>0</td>\n",
       "    </tr>\n",
       "    <tr>\n",
       "      <th>3</th>\n",
       "      <td>490</td>\n",
       "      <td>923.134694</td>\n",
       "      <td>62.163265</td>\n",
       "      <td>4</td>\n",
       "      <td>0</td>\n",
       "      <td>20170711_I01_001.czi</td>\n",
       "      <td>EGFP</td>\n",
       "      <td>0</td>\n",
       "      <td>0</td>\n",
       "    </tr>\n",
       "    <tr>\n",
       "      <th>4</th>\n",
       "      <td>225</td>\n",
       "      <td>1673.026667</td>\n",
       "      <td>63.533333</td>\n",
       "      <td>5</td>\n",
       "      <td>0</td>\n",
       "      <td>20170711_I01_001.czi</td>\n",
       "      <td>EGFP</td>\n",
       "      <td>0</td>\n",
       "      <td>0</td>\n",
       "    </tr>\n",
       "  </tbody>\n",
       "</table>\n",
       "</div>"
      ],
      "text/plain": [
       "   area   centroid_x  centroid_y  cell_id  channel          original_czi  \\\n",
       "0    89  1642.584270    2.685393        1        0  20170711_I01_001.czi   \n",
       "1   402  1762.671642   13.833333        2        0  20170711_I01_001.czi   \n",
       "2   399  1784.869674   40.010025        3        0  20170711_I01_001.czi   \n",
       "3   490   923.134694   62.163265        4        0  20170711_I01_001.czi   \n",
       "4   225  1673.026667   63.533333        5        0  20170711_I01_001.czi   \n",
       "\n",
       "  fluorophore  time  region  \n",
       "0        EGFP     0       0  \n",
       "1        EGFP     0       0  \n",
       "2        EGFP     0       0  \n",
       "3        EGFP     0       0  \n",
       "4        EGFP     0       0  "
      ]
     },
     "execution_count": 11,
     "metadata": {},
     "output_type": "execute_result"
    }
   ],
   "source": [
    "with mp.Pool(mp.cpu_count()) as pool:\n",
    "    centroids = pool.map(centroids_by_rows, params)\n",
    "centroids = pd.DataFrame(itertools.chain(*centroids))\n",
    "centroids.head()"
   ]
  },
  {
   "cell_type": "markdown",
   "metadata": {},
   "source": [
    "And finally we'll update the manifest to reflect the output CSV and save (if called from a step)."
   ]
  },
  {
   "cell_type": "code",
   "execution_count": 12,
   "metadata": {},
   "outputs": [],
   "source": [
    "manifests = []\n",
    "for region in centroids.region.unique():\n",
    "    by_region = centroids[centroids.region==region]\n",
    "    original_czi = by_region.iloc[0].original_czi\n",
    "    fn = original_czi[:original_czi.rfind(\"_\")]+'.csv'\n",
    "    by_region.to_csv(absolute_local_staging / fn, float_format=\"%0.1f\", index=False)\n",
    "    manifests.append(dict(filepath=relative_local_staging/fn, \n",
    "                          original_image_series=fn[:-4],\n",
    "                          region=region))\n",
    "    \n",
    "config.manifest = pd.DataFrame(manifests)\n",
    "config.metadata_columns = ['original_image_series', 'region']\n",
    "utils.dump_step_config(config)"
   ]
  },
  {
   "cell_type": "code",
   "execution_count": null,
   "metadata": {},
   "outputs": [],
   "source": []
  }
 ],
 "metadata": {
  "kernelspec": {
   "display_name": "Python [conda env:workflow_colony_formation]",
   "language": "python",
   "name": "conda-env-workflow_colony_formation-py"
  },
  "language_info": {
   "codemirror_mode": {
    "name": "ipython",
    "version": 3
   },
   "file_extension": ".py",
   "mimetype": "text/x-python",
   "name": "python",
   "nbconvert_exporter": "python",
   "pygments_lexer": "ipython3",
   "version": "3.7.6"
  }
 },
 "nbformat": 4,
 "nbformat_minor": 4
}
